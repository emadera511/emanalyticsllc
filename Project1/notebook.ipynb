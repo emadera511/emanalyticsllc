{
 "cells": [
  {
   "cell_type": "markdown",
   "metadata": {},
   "source": [
    "# Reading and Loading Dat Using Spark and Postgres"
   ]
  },
  {
   "cell_type": "markdown",
   "metadata": {},
   "source": [
    "Below is the code to find spark and import the spark libraries to use.  And other essential libraries. "
   ]
  },
  {
   "cell_type": "code",
   "execution_count": 1,
   "metadata": {},
   "outputs": [],
   "source": [
    "import findspark\n",
    "findspark.init('/home/emanalytics/spark-3.3.1-bin-hadoop3')\n",
    "\n",
    "import pyspark\n",
    "\n",
    "from pyspark.sql import SparkSession\n",
    "from pyspark.sql import Row\n",
    "from lib.DataFlow import *"
   ]
  },
  {
   "cell_type": "markdown",
   "metadata": {},
   "source": [
    "The next cell i am using a yaml file that contain the postgres credetial.   Therefore I used a lib.Dataflow where I created the read_file to read from a yaml and pull the crendentials.  The save from hardcoding the values.  "
   ]
  },
  {
   "cell_type": "code",
   "execution_count": 2,
   "metadata": {},
   "outputs": [],
   "source": [
    "ymlData = read_file('config/config.yaml')\n",
    "\n",
    "host = ymlData['postgres']['host']\n",
    "port = ymlData['postgres']['port']\n",
    "db = ymlData['postgres']['database']\n",
    "user = ymlData['postgres']['username']\n",
    "password = ymlData['postgres']['password']\n"
   ]
  },
  {
   "cell_type": "markdown",
   "metadata": {},
   "source": [
    "To load data from postgres I am using the jdbc format.  first we create a spark session specified where the postgres driver is located in this case is the .jar file and create the spark session.\n",
    "\n",
    "use the spark session to read.format(\"jdbc\") and configure the options with the postgres connections the .load() will load the data from postgres into the dataframe."
   ]
  },
  {
   "cell_type": "code",
   "execution_count": 13,
   "metadata": {},
   "outputs": [
    {
     "name": "stdout",
     "output_type": "stream",
     "text": [
      "22/12/15 17:27:33 WARN SparkSession: Using an existing Spark session; only runtime SQL configurations will take effect.\n"
     ]
    }
   ],
   "source": [
    "\n",
    "spark = SparkSession.builder.config(\"spark.jars\", \"/home/emanalytics/Downloads/postgresql-42.5.1.jar\") \\\n",
    "    .master(\"local\").appName(\"PySpark_Postgres_test1\").getOrCreate()\n",
    "    \n",
    "\n",
    "jdbcDF = spark.read.format(\"jdbc\"). \\\n",
    "options(\n",
    "         url=f'jdbc:postgresql://{host}:{port}/{db}', # jdbc:postgresql://<host>:<port>/<database>\n",
    "         dbtable='buppy',\n",
    "         user=user,\n",
    "         password=password,\n",
    "         driver='org.postgresql.Driver').load()"
   ]
  },
  {
   "cell_type": "code",
   "execution_count": 14,
   "metadata": {},
   "outputs": [
    {
     "name": "stdout",
     "output_type": "stream",
     "text": [
      "+---+-----+\n",
      "| id| name|\n",
      "+---+-----+\n",
      "|  1|Buppy|\n",
      "+---+-----+\n",
      "\n"
     ]
    }
   ],
   "source": [
    "jdbcDF.show()"
   ]
  },
  {
   "cell_type": "markdown",
   "metadata": {},
   "source": [
    "Below I created a spark dataframe where I will use to load that data frame into postgres. "
   ]
  },
  {
   "cell_type": "code",
   "execution_count": 16,
   "metadata": {},
   "outputs": [],
   "source": [
    "studentDf = spark.createDataFrame([\n",
    "\tRow(id=1,name='vijay',marks=67),\n",
    "\tRow(id=2,name='Ajay',marks=88),\n",
    "\tRow(id=3,name='jay',marks=79),\n",
    "\tRow(id=4,name='vinay',marks=67),\n",
    "])"
   ]
  },
  {
   "cell_type": "code",
   "execution_count": 17,
   "metadata": {},
   "outputs": [
    {
     "name": "stderr",
     "output_type": "stream",
     "text": [
      "[Stage 3:>                                                          (0 + 1) / 1]\r"
     ]
    },
    {
     "name": "stdout",
     "output_type": "stream",
     "text": [
      "+---+-----+-----+\n",
      "| id| name|marks|\n",
      "+---+-----+-----+\n",
      "|  1|vijay|   67|\n",
      "|  2| Ajay|   88|\n",
      "|  3|  jay|   79|\n",
      "|  4|vinay|   67|\n",
      "+---+-----+-----+\n",
      "\n"
     ]
    },
    {
     "name": "stderr",
     "output_type": "stream",
     "text": [
      "                                                                                \r"
     ]
    }
   ],
   "source": [
    "studentDf.show()"
   ]
  },
  {
   "cell_type": "markdown",
   "metadata": {},
   "source": [
    "below is how we load the data into postgres similarly to the loading data into spark we use the write.format(\"jdbc\") with the options parameters from the yaml file we then use the .save() method this will load the data and creates a table in postgres sql.  "
   ]
  },
  {
   "cell_type": "code",
   "execution_count": 20,
   "metadata": {},
   "outputs": [
    {
     "name": "stderr",
     "output_type": "stream",
     "text": [
      "                                                                                \r"
     ]
    }
   ],
   "source": [
    "studentDf.select('id', 'name', 'marks').write.format(\"jdbc\"). \\\n",
    "options(\n",
    "         url=f'jdbc:postgresql://{host}:{port}/{db}', # jdbc:postgresql://<host>:<port>/<database>\n",
    "         dbtable='students',\n",
    "         user=user,\n",
    "         password=password,\n",
    "         driver='org.postgresql.Driver').save()"
   ]
  },
  {
   "cell_type": "code",
   "execution_count": 3,
   "metadata": {},
   "outputs": [
    {
     "name": "stdout",
     "output_type": "stream",
     "text": [
      "22/12/15 20:07:24 WARN Utils: Your hostname, emanalytics-VirtualBox resolves to a loopback address: 127.0.1.1; using 10.0.2.15 instead (on interface enp0s3)\n",
      "22/12/15 20:07:24 WARN Utils: Set SPARK_LOCAL_IP if you need to bind to another address\n",
      "22/12/15 20:07:27 WARN NativeCodeLoader: Unable to load native-hadoop library for your platform... using builtin-java classes where applicable\n"
     ]
    },
    {
     "name": "stderr",
     "output_type": "stream",
     "text": [
      "Setting default log level to \"WARN\".\n",
      "To adjust logging level use sc.setLogLevel(newLevel). For SparkR, use setLogLevel(newLevel).\n"
     ]
    }
   ],
   "source": [
    "spark = SparkSession.builder.config(\"spark.jars\", \"/home/emanalytics/Downloads/postgresql-42.5.1.jar\") \\\n",
    "    .master(\"local\").appName(\"Electric Cars\").getOrCreate()"
   ]
  },
  {
   "cell_type": "code",
   "execution_count": null,
   "metadata": {},
   "outputs": [],
   "source": []
  },
  {
   "cell_type": "code",
   "execution_count": 15,
   "metadata": {},
   "outputs": [
    {
     "name": "stderr",
     "output_type": "stream",
     "text": [
      "                                                                                \r"
     ]
    },
    {
     "name": "stdout",
     "output_type": "stream",
     "text": [
      "root\n",
      " |-- VIN (1-10): string (nullable = true)\n",
      " |-- County: string (nullable = true)\n",
      " |-- City: string (nullable = true)\n",
      " |-- State: string (nullable = true)\n",
      " |-- Postal Code: integer (nullable = true)\n",
      " |-- Model Year: integer (nullable = true)\n",
      " |-- Make: string (nullable = true)\n",
      " |-- Model: string (nullable = true)\n",
      " |-- Electric Vehicle Type: string (nullable = true)\n",
      " |-- Clean Alternative Fuel Vehicle (CAFV) Eligibility: string (nullable = true)\n",
      " |-- Electric Range: integer (nullable = true)\n",
      " |-- Base MSRP: integer (nullable = true)\n",
      " |-- Legislative District: integer (nullable = true)\n",
      " |-- DOL Vehicle ID: integer (nullable = true)\n",
      " |-- Vehicle Location: string (nullable = true)\n",
      " |-- Electric Utility: string (nullable = true)\n",
      " |-- 2020 Census Tract: long (nullable = true)\n",
      "\n",
      "+----------+---------+-----------------+-----+-----------+----------+---------+----------+---------------------+-------------------------------------------------+--------------+---------+--------------------+--------------+--------------------+--------------------+-----------------+\n",
      "|VIN (1-10)|   County|             City|State|Postal Code|Model Year|     Make|     Model|Electric Vehicle Type|Clean Alternative Fuel Vehicle (CAFV) Eligibility|Electric Range|Base MSRP|Legislative District|DOL Vehicle ID|    Vehicle Location|    Electric Utility|2020 Census Tract|\n",
      "+----------+---------+-----------------+-----+-----------+----------+---------+----------+---------------------+-------------------------------------------------+--------------+---------+--------------------+--------------+--------------------+--------------------+-----------------+\n",
      "|JTMEB3FV6N|   Monroe|         Key West|   FL|      33040|      2022|   TOYOTA|RAV4 PRIME| Plug-in Hybrid El...|                             Clean Alternative...|            42|        0|                null|     198968248|POINT (-81.80023 ...|                null|      12087972100|\n",
      "|1G1RD6E45D|    Clark|         Laughlin|   NV|      89029|      2013|CHEVROLET|      VOLT| Plug-in Hybrid El...|                             Clean Alternative...|            38|        0|                null|       5204412|POINT (-114.57245...|                null|      32003005702|\n",
      "|JN1AZ0CP8B|   Yakima|           Yakima|   WA|      98901|      2011|   NISSAN|      LEAF| Battery Electric ...|                             Clean Alternative...|            73|        0|                  15|     218972519|POINT (-120.50721...|          PACIFICORP|      53077001602|\n",
      "|1G1FW6S08H|   Skagit|         Concrete|   WA|      98237|      2017|CHEVROLET|   BOLT EV| Battery Electric ...|                             Clean Alternative...|           238|        0|                  39|     186750406|POINT (-121.7515 ...|PUGET SOUND ENERG...|      53057951101|\n",
      "|3FA6P0SU1K|Snohomish|          Everett|   WA|      98201|      2019|     FORD|    FUSION| Plug-in Hybrid El...|                             Not eligible due ...|            26|        0|                  38|       2006714|POINT (-122.20596...|PUGET SOUND ENERG...|      53061041500|\n",
      "|5YJ3E1EB5J|Snohomish|          Bothell|   WA|      98021|      2018|    TESLA|   MODEL 3| Battery Electric ...|                             Clean Alternative...|           215|        0|                   1|     475635324|POINT (-122.18384...|PUGET SOUND ENERG...|      53061051916|\n",
      "|1N4AZ0CP4D|Snohomish|          Everett|   WA|      98203|      2013|   NISSAN|      LEAF| Battery Electric ...|                             Clean Alternative...|            75|        0|                  38|     253546023|POINT (-122.23019...|PUGET SOUND ENERG...|      53061040900|\n",
      "|1N4AZ0CP0D|Snohomish|         Mukilteo|   WA|      98275|      2013|   NISSAN|      LEAF| Battery Electric ...|                             Clean Alternative...|            75|        0|                  21|     176817364|POINT (-122.29196...|PUGET SOUND ENERG...|      53061042001|\n",
      "|1N4BZ0CP4G|   Island|          Clinton|   WA|      98236|      2016|   NISSAN|      LEAF| Battery Electric ...|                             Clean Alternative...|            84|        0|                  10|     475900379|POINT (-122.35803...|PUGET SOUND ENERG...|      53029972100|\n",
      "|KNDJP3AE2G|   Skagit|        Anacortes|   WA|      98221|      2016|      KIA|      SOUL| Battery Electric ...|                             Clean Alternative...|            93|    31950|                  40|     100489049|POINT (-122.61214...|PUGET SOUND ENERG...|      53057940301|\n",
      "|WA1F2AFY1L| Thurston|            Lacey|   WA|      98516|      2020|     AUDI|      Q5 E| Plug-in Hybrid El...|                             Not eligible due ...|            20|        0|                  22|     103317238|POINT (-122.75379...|PUGET SOUND ENERG...|      53067012221|\n",
      "|5YJXCBE23L|    Grant|       Moses Lake|   WA|      98837|      2020|    TESLA|   MODEL X| Battery Electric ...|                             Clean Alternative...|           293|        0|                  13|       3214494|POINT (-119.2771 ...|PUD NO 2 OF GRANT...|      53025010904|\n",
      "|3C3CFFGE3G|St. Clair|        Mascoutah|   IL|      62258|      2016|     FIAT|       500| Battery Electric ...|                             Clean Alternative...|            84|        0|                null|     153786167|POINT (-89.79939 ...|                null|      17163504356|\n",
      "|1G1RD6S50G| Thurston|        Rochester|   WA|      98579|      2016|CHEVROLET|      VOLT| Plug-in Hybrid El...|                             Clean Alternative...|            53|        0|                  20|     476126752|POINT (-123.08743...|PUGET SOUND ENERG...|      53067012730|\n",
      "|5YJ3E1EA1J|   Skagit|       Burlington|   WA|      98233|      2018|    TESLA|   MODEL 3| Battery Electric ...|                             Clean Alternative...|           215|        0|                  40|     211534823|POINT (-122.33029...|PUGET SOUND ENERG...|      53057951600|\n",
      "|1N4BZ1CP4K|Snohomish|          Everett|   WA|      98201|      2019|   NISSAN|      LEAF| Battery Electric ...|                             Clean Alternative...|           150|        0|                  38|     203204347|POINT (-122.20596...|PUGET SOUND ENERG...|      53061040100|\n",
      "|1N4AZ0CP4D|   Pierce|         Kapowsin|   WA|      98344|      2013|   NISSAN|      LEAF| Battery Electric ...|                             Clean Alternative...|            75|        0|                   2|     237061968|                null|PUGET SOUND ENERG...|      53053073119|\n",
      "|1N4BZ0CP4H|Snohomish|       Marysville|   WA|      98271|      2017|   NISSAN|      LEAF| Battery Electric ...|                             Clean Alternative...|           107|        0|                  38|     262138243|POINT (-122.19388...|PUGET SOUND ENERG...|      53061052805|\n",
      "|5UXKT0C50G|Snohomish|         Lynnwood|   WA|      98037|      2016|      BMW|        X5| Plug-in Hybrid El...|                             Not eligible due ...|            14|        0|                  32|     320712472|POINT (-122.27734...|PUGET SOUND ENERG...|      53061051802|\n",
      "|5YJXCAE28G| Saratoga|Greenfield Center|   NY|      12833|      2016|    TESLA|   MODEL X| Battery Electric ...|                             Clean Alternative...|           200|        0|                null|     218050878|POINT (-73.84643 ...|                null|      36091060601|\n",
      "+----------+---------+-----------------+-----+-----------+----------+---------+----------+---------------------+-------------------------------------------------+--------------+---------+--------------------+--------------+--------------------+--------------------+-----------------+\n",
      "only showing top 20 rows\n",
      "\n"
     ]
    }
   ],
   "source": [
    "df = spark.read.csv('data/Electric_Vehicle_Population_Data.csv', inferSchema=True, header=True)\n",
    "df.printSchema()\n",
    "df.show()"
   ]
  },
  {
   "cell_type": "code",
   "execution_count": 16,
   "metadata": {},
   "outputs": [
    {
     "name": "stderr",
     "output_type": "stream",
     "text": [
      "                                                                                \r"
     ]
    },
    {
     "data": {
      "text/plain": [
       "112634"
      ]
     },
     "execution_count": 16,
     "metadata": {},
     "output_type": "execute_result"
    }
   ],
   "source": [
    "df.count()"
   ]
  },
  {
   "cell_type": "code",
   "execution_count": 19,
   "metadata": {},
   "outputs": [
    {
     "name": "stderr",
     "output_type": "stream",
     "text": [
      "                                                                                \r"
     ]
    },
    {
     "data": {
      "text/plain": [
       "978"
      ]
     },
     "execution_count": 19,
     "metadata": {},
     "output_type": "execute_result"
    }
   ],
   "source": [
    "df2 = df.select('county', 'city', 'state', 'postal code').dropDuplicates()\n",
    "df2.count()"
   ]
  },
  {
   "cell_type": "code",
   "execution_count": 20,
   "metadata": {},
   "outputs": [
    {
     "name": "stderr",
     "output_type": "stream",
     "text": [
      "[Stage 24:>                                                         (0 + 1) / 1]\r"
     ]
    },
    {
     "name": "stdout",
     "output_type": "stream",
     "text": [
      "+------------+-----+\n",
      "|        Make|count|\n",
      "+------------+-----+\n",
      "|     PORSCHE|  818|\n",
      "|LUCID MOTORS|   65|\n",
      "|     HYUNDAI| 1412|\n",
      "|        FIAT|  822|\n",
      "|      TOYOTA| 4405|\n",
      "|      SUBARU|   59|\n",
      "|      NISSAN|12880|\n",
      "|     BENTLEY|    3|\n",
      "|        FORD| 5819|\n",
      "|        AUDI| 2332|\n",
      "|        MINI|  632|\n",
      "|   CHEVROLET|10182|\n",
      "|      JAGUAR|  219|\n",
      "|       LEXUS|   33|\n",
      "|        JEEP| 1152|\n",
      "|       VOLVO| 2288|\n",
      "|       TESLA|52078|\n",
      "|    POLESTAR|  558|\n",
      "|         BMW| 4680|\n",
      "|  VOLKSWAGEN| 2514|\n",
      "+------------+-----+\n",
      "only showing top 20 rows\n",
      "\n"
     ]
    },
    {
     "name": "stderr",
     "output_type": "stream",
     "text": [
      "                                                                                \r"
     ]
    }
   ],
   "source": [
    "plotDF = df.groupBy('Make').count()\n",
    "plotDF.show()"
   ]
  },
  {
   "cell_type": "code",
   "execution_count": 21,
   "metadata": {},
   "outputs": [],
   "source": [
    "import matplotlib.pyplot as plt \n",
    "\n",
    "import pandas "
   ]
  },
  {
   "cell_type": "code",
   "execution_count": 23,
   "metadata": {},
   "outputs": [
    {
     "data": {
      "image/png": "[encoded data removed]",
      "text/plain": [
       "<Figure size 432x288 with 1 Axes>"
      ]
     },
     "metadata": {
      "needs_background": "light"
     },
     "output_type": "display_data"
    }
   ],
   "source": [
    "x = plotDF.toPandas()['Make'].values.tolist()\n",
    "y = plotDF.toPandas()['count'].values.tolist() \n",
    "\n",
    "plt.barh(x,y)\n",
    "plt.show()"
   ]
  }
 ],
 "metadata": {
  "kernelspec": {
   "display_name": "Python 3.10.6 64-bit",
   "language": "python",
   "name": "python3"
  },
  "language_info": {
   "codemirror_mode": {
    "name": "ipython",
    "version": 3
   },
   "file_extension": ".py",
   "mimetype": "text/x-python",
   "name": "python",
   "nbconvert_exporter": "python",
   "pygments_lexer": "ipython3",
   "version": "3.10.6"
  },
  "orig_nbformat": 4,
  "vscode": {
   "interpreter": {
    "hash": "916dbcbb3f70747c44a77c7bcd40155683ae19c65e1c03b4aa3499c5328201f1"
   }
  }
 },
 "nbformat": 4,
 "nbformat_minor": 2
}
